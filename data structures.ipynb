{
 "cells": [
  {
   "cell_type": "markdown",
   "id": "78dd8c42",
   "metadata": {},
   "source": [
    "# Arrays - list"
   ]
  },
  {
   "cell_type": "code",
   "execution_count": 1,
   "id": "c737ce08",
   "metadata": {},
   "outputs": [],
   "source": [
    "expenses = [2200,2350,2600,2130,2190]"
   ]
  },
  {
   "cell_type": "code",
   "execution_count": 2,
   "id": "9b2f369d",
   "metadata": {},
   "outputs": [
    {
     "data": {
      "text/plain": [
       "150"
      ]
     },
     "execution_count": 2,
     "metadata": {},
     "output_type": "execute_result"
    }
   ],
   "source": [
    "expenses[1] - expenses[0]"
   ]
  },
  {
   "cell_type": "code",
   "execution_count": 7,
   "id": "8fc370db",
   "metadata": {},
   "outputs": [
    {
     "name": "stdout",
     "output_type": "stream",
     "text": [
      "no value matches\n"
     ]
    }
   ],
   "source": [
    "for i in range(len(expenses)):\n",
    "    if expenses[i] == 2000:\n",
    "        print(i)\n",
    "        break\n",
    "    else:\n",
    "        print('no value matches')\n",
    "        break"
   ]
  },
  {
   "cell_type": "code",
   "execution_count": 8,
   "id": "aeb1cc4d",
   "metadata": {},
   "outputs": [],
   "source": [
    "expenses.insert(len(expenses),1980)"
   ]
  },
  {
   "cell_type": "code",
   "execution_count": 9,
   "id": "78999526",
   "metadata": {},
   "outputs": [
    {
     "data": {
      "text/plain": [
       "[2200, 2350, 2600, 2130, 2190, 1980]"
      ]
     },
     "execution_count": 9,
     "metadata": {},
     "output_type": "execute_result"
    }
   ],
   "source": [
    "expenses"
   ]
  },
  {
   "cell_type": "code",
   "execution_count": 10,
   "id": "8998b71d",
   "metadata": {},
   "outputs": [],
   "source": [
    "expenses[3] = expenses[3] - 200"
   ]
  },
  {
   "cell_type": "code",
   "execution_count": 11,
   "id": "f5101b53",
   "metadata": {},
   "outputs": [
    {
     "data": {
      "text/plain": [
       "[2200, 2350, 2600, 1930, 2190, 1980]"
      ]
     },
     "execution_count": 11,
     "metadata": {},
     "output_type": "execute_result"
    }
   ],
   "source": [
    "expenses"
   ]
  },
  {
   "cell_type": "code",
   "execution_count": 12,
   "id": "e00417fd",
   "metadata": {},
   "outputs": [],
   "source": [
    "heros=['spider man','thor','hulk','iron man','captain america']"
   ]
  },
  {
   "cell_type": "code",
   "execution_count": 13,
   "id": "d4c8a5ad",
   "metadata": {},
   "outputs": [],
   "source": [
    "heros.append('black panther')"
   ]
  },
  {
   "cell_type": "code",
   "execution_count": 15,
   "id": "f157db25",
   "metadata": {},
   "outputs": [
    {
     "data": {
      "text/plain": [
       "'black panther'"
      ]
     },
     "execution_count": 15,
     "metadata": {},
     "output_type": "execute_result"
    }
   ],
   "source": [
    "heros.pop()"
   ]
  },
  {
   "cell_type": "code",
   "execution_count": 16,
   "id": "cb3c1a63",
   "metadata": {},
   "outputs": [],
   "source": [
    "heros.append('hulk')\n",
    "heros.append('black panther')"
   ]
  },
  {
   "cell_type": "code",
   "execution_count": 17,
   "id": "b4fb074e",
   "metadata": {},
   "outputs": [
    {
     "data": {
      "text/plain": [
       "['spider man',\n",
       " 'thor',\n",
       " 'hulk',\n",
       " 'iron man',\n",
       " 'captain america',\n",
       " 'hulk',\n",
       " 'black panther']"
      ]
     },
     "execution_count": 17,
     "metadata": {},
     "output_type": "execute_result"
    }
   ],
   "source": [
    "heros"
   ]
  },
  {
   "cell_type": "code",
   "execution_count": 20,
   "id": "cda9d7f2",
   "metadata": {},
   "outputs": [],
   "source": [
    "heros[1:3]=['doctor strange']"
   ]
  },
  {
   "cell_type": "code",
   "execution_count": 22,
   "id": "02aa2f07",
   "metadata": {},
   "outputs": [
    {
     "name": "stdout",
     "output_type": "stream",
     "text": [
      "7\n",
      "[1, 3, 5, 7]\n"
     ]
    }
   ],
   "source": [
    "m = int(input())\n",
    "l = [int(x) for x in range(1,m+1) if (x % 2) != 0]\n",
    "print(l)"
   ]
  },
  {
   "cell_type": "markdown",
   "id": "1cf59dbb",
   "metadata": {},
   "source": [
    "# Linked lists"
   ]
  },
  {
   "cell_type": "code",
   "execution_count": 4,
   "id": "0be98cf4",
   "metadata": {},
   "outputs": [],
   "source": [
    "class Node:\n",
    "    def __init__(self,data = None, next = None):\n",
    "        self.data = data\n",
    "        self.next = next\n",
    "class LinkedList:\n",
    "    def __init__(self):\n",
    "        self.head = None\n",
    "        \n",
    "    def print(self):\n",
    "        if self.head is None:\n",
    "            print('List empty')\n",
    "            return\n",
    "        itr = self.head\n",
    "        lstr = ''\n",
    "        while itr:\n",
    "            lstr += str(itr.data)+'-->' if itr.next else str(itr.data)\n",
    "            itr = itr.next\n",
    "        print(lstr)\n",
    "    \n",
    "    def get_length(self):\n",
    "        count = 0\n",
    "        itr = self.head\n",
    "        while itr:\n",
    "            count+=1\n",
    "            itr = itr.next\n",
    "\n",
    "        return count\n",
    "\n",
    "    def insert_at_begining(self, data):\n",
    "        node = Node(data, self.head)\n",
    "        self.head = node\n",
    "\n",
    "    def insert_at_end(self, data):\n",
    "        if self.head is None:\n",
    "            self.head = Node(data, None)\n",
    "            return\n",
    "\n",
    "        itr = self.head\n",
    "\n",
    "        while itr.next:\n",
    "            itr = itr.next\n",
    "\n",
    "        itr.next = Node(data, None)\n",
    "\n",
    "    def insert_at(self, index, data):\n",
    "        if index<0 or index>self.get_length():\n",
    "            raise Exception(\"Invalid Index\")\n",
    "\n",
    "        if index==0:\n",
    "            self.insert_at_begining(data)\n",
    "            return\n",
    "\n",
    "        count = 0\n",
    "        itr = self.head\n",
    "        while itr:\n",
    "            if count == index - 1:\n",
    "                node = Node(data, itr.next)\n",
    "                itr.next = node\n",
    "                break\n",
    "\n",
    "            itr = itr.next\n",
    "            count += 1\n",
    "\n",
    "    def remove_at(self, index):\n",
    "        if index<0 or index>=self.get_length():\n",
    "            raise Exception(\"Invalid Index\")\n",
    "\n",
    "        if index==0:\n",
    "            self.head = self.head.next\n",
    "            return\n",
    "\n",
    "        count = 0\n",
    "        itr = self.head\n",
    "        while itr:\n",
    "            if count == index - 1:\n",
    "                itr.next = itr.next.next\n",
    "                break\n",
    "\n",
    "            itr = itr.next\n",
    "            count+=1\n",
    "\n",
    "    def insert_values(self, data_list):\n",
    "        self.head = None\n",
    "        for data in data_list:\n",
    "            self.insert_at_end(data)\n",
    "            \n",
    "    def insert_after_value(self, data_after, data_to_insert):\n",
    "        if self.head is None:\n",
    "            return\n",
    "\n",
    "        if self.head.data==data_after:\n",
    "            self.head.next = Node(data_to_insert,self.head.next)\n",
    "            return\n",
    "\n",
    "        itr = self.head\n",
    "        while itr:\n",
    "            if itr.data == data_after:\n",
    "                itr.next = Node(data_to_insert, itr.next)\n",
    "                break\n",
    "\n",
    "            itr = itr.next"
   ]
  },
  {
   "cell_type": "code",
   "execution_count": 5,
   "id": "599b606b",
   "metadata": {},
   "outputs": [
    {
     "name": "stdout",
     "output_type": "stream",
     "text": [
      "banana-->mango-->grapes-->orange\n",
      "banana-->mango-->apple-->grapes-->orange\n"
     ]
    }
   ],
   "source": [
    "if __name__ == '__main__':\n",
    "    ll = LinkedList()\n",
    "    ll.insert_values([\"banana\",\"mango\",\"grapes\",\"orange\"])\n",
    "    ll.print()\n",
    "    ll.insert_after_value(\"mango\",\"apple\")\n",
    "    ll.print()\n",
    "    "
   ]
  },
  {
   "cell_type": "markdown",
   "id": "dfa744af",
   "metadata": {},
   "source": [
    "# Hash Table"
   ]
  },
  {
   "cell_type": "code",
   "execution_count": 1,
   "id": "09091802",
   "metadata": {},
   "outputs": [],
   "source": [
    "import pandas as pd"
   ]
  },
  {
   "cell_type": "code",
   "execution_count": 2,
   "id": "3e74431c",
   "metadata": {},
   "outputs": [],
   "source": [
    "data = pd.read_csv('nyc_weather.csv')"
   ]
  },
  {
   "cell_type": "code",
   "execution_count": 11,
   "id": "238d4642",
   "metadata": {},
   "outputs": [
    {
     "name": "stdout",
     "output_type": "stream",
     "text": [
      "Invalid temperature.Ignore the row\n"
     ]
    }
   ],
   "source": [
    "arr = []\n",
    "\n",
    "with open(\"nyc_weather.csv\",\"r\") as f:\n",
    "    for line in f:\n",
    "        tokens = line.split(',')\n",
    "        try:\n",
    "            temperature = int(tokens[1])\n",
    "            arr.append(temperature)\n",
    "        except:\n",
    "            print(\"Invalid temperature.Ignore the row\")"
   ]
  },
  {
   "cell_type": "code",
   "execution_count": 12,
   "id": "09bdcb17",
   "metadata": {},
   "outputs": [
    {
     "data": {
      "text/plain": [
       "[27, 31, 23, 34, 37, 38, 29, 30, 35, 30]"
      ]
     },
     "execution_count": 12,
     "metadata": {},
     "output_type": "execute_result"
    }
   ],
   "source": [
    "arr"
   ]
  },
  {
   "cell_type": "code",
   "execution_count": 13,
   "id": "7427ba0a",
   "metadata": {},
   "outputs": [
    {
     "data": {
      "text/plain": [
       "31.285714285714285"
      ]
     },
     "execution_count": 13,
     "metadata": {},
     "output_type": "execute_result"
    }
   ],
   "source": [
    "avg = sum(arr[:7])/len(arr[:7])\n",
    "avg"
   ]
  },
  {
   "cell_type": "code",
   "execution_count": 15,
   "id": "ed0053fc",
   "metadata": {},
   "outputs": [
    {
     "name": "stdout",
     "output_type": "stream",
     "text": [
      "Invalid temperature.Ignore the row\n"
     ]
    }
   ],
   "source": [
    "weather_dict = {}\n",
    "\n",
    "with open(\"nyc_weather.csv\",\"r\") as f:\n",
    "    for line in f:\n",
    "        tokens = line.split(',')\n",
    "        day = tokens[0]\n",
    "        try:\n",
    "            temperature = int(tokens[1])\n",
    "            weather_dict[day] = temperature\n",
    "        except:\n",
    "            print(\"Invalid temperature.Ignore the row\")"
   ]
  },
  {
   "cell_type": "code",
   "execution_count": 1,
   "id": "ee421a1b",
   "metadata": {
    "collapsed": true
   },
   "outputs": [
    {
     "name": "stdout",
     "output_type": "stream",
     "text": [
      "Invalid temperature.Ignore the row\n",
      "Invalid temperature.Ignore the row\n",
      "Invalid temperature.Ignore the row\n",
      "Invalid temperature.Ignore the row\n",
      "Invalid temperature.Ignore the row\n",
      "Invalid temperature.Ignore the row\n",
      "Invalid temperature.Ignore the row\n",
      "Invalid temperature.Ignore the row\n",
      "Invalid temperature.Ignore the row\n",
      "Invalid temperature.Ignore the row\n",
      "Invalid temperature.Ignore the row\n",
      "Invalid temperature.Ignore the row\n",
      "Invalid temperature.Ignore the row\n",
      "Invalid temperature.Ignore the row\n",
      "Invalid temperature.Ignore the row\n",
      "Invalid temperature.Ignore the row\n",
      "Invalid temperature.Ignore the row\n",
      "Invalid temperature.Ignore the row\n",
      "Invalid temperature.Ignore the row\n",
      "Invalid temperature.Ignore the row\n",
      "Invalid temperature.Ignore the row\n",
      "Invalid temperature.Ignore the row\n",
      "Invalid temperature.Ignore the row\n"
     ]
    }
   ],
   "source": [
    "poem = {}\n",
    "\n",
    "with open(\"poem.txt\",\"r\") as f:\n",
    "    for line in f:\n",
    "        tokens = line.split(' ')\n",
    "        day = tokens[0]\n",
    "        try:\n",
    "            words = int(tokens[1])\n",
    "            poem[count] = words\n",
    "        except:\n",
    "            print(\"Invalid temperature.Ignore the row\")"
   ]
  },
  {
   "cell_type": "code",
   "execution_count": 9,
   "id": "7ffd25e1",
   "metadata": {},
   "outputs": [],
   "source": [
    "word_count = {}\n",
    "with open(\"poem.txt\",\"r\") as f:\n",
    "    for line in f:\n",
    "        tokens = line.split(' ')\n",
    "        for token in tokens:\n",
    "            token=token.replace('\\n','')\n",
    "            if token in word_count:\n",
    "                word_count[token]+=1\n",
    "            else:\n",
    "                word_count[token]=1"
   ]
  },
  {
   "cell_type": "markdown",
   "id": "95eb9d5a",
   "metadata": {},
   "source": [
    "# Stack"
   ]
  },
  {
   "cell_type": "code",
   "execution_count": 1,
   "id": "4f546de9",
   "metadata": {},
   "outputs": [],
   "source": [
    "from collections import deque"
   ]
  },
  {
   "cell_type": "code",
   "execution_count": 13,
   "id": "3bb36a22",
   "metadata": {},
   "outputs": [],
   "source": [
    "class Stack:\n",
    "    def __init__(self):\n",
    "        self.container = deque()\n",
    "    \n",
    "    def push(self,val):\n",
    "        self.container.append(val)\n",
    "        \n",
    "    def pop(self):\n",
    "        return self.container.pop()\n",
    "    \n",
    "    def peek(self):\n",
    "        return  self.container[-1]\n",
    "    \n",
    "    def is_empty(self):\n",
    "        return len(self.container)==0\n",
    "    \n",
    "    def size(self):\n",
    "        return len(self.container)\n",
    "    \n",
    "    def is_balanced(s):\n",
    "        stack = Stack()\n",
    "\n",
    "        for ch in s:\n",
    "            stack.push(ch)\n",
    "        \n",
    "        \n",
    "            \n",
    "\n",
    "        rstr = ''\n",
    "        while stack.size()!=0:\n",
    "            rstr += stack.pop()\n",
    "\n",
    "        return rstr"
   ]
  },
  {
   "cell_type": "code",
   "execution_count": 30,
   "id": "d94f92fd",
   "metadata": {},
   "outputs": [],
   "source": [
    "s = Stack()\n",
    "s.push('we')\n",
    "s.push('will')\n",
    "s.push('conquer')\n",
    "s.push('covid-19')"
   ]
  },
  {
   "cell_type": "code",
   "execution_count": 31,
   "id": "d41597f5",
   "metadata": {},
   "outputs": [],
   "source": [
    "n = Stack()\n",
    "l = []\n",
    "for i in range(s.size()):\n",
    "    w = s.pop()\n",
    "    w = w[::-1]\n",
    "    l.append(w)"
   ]
  },
  {
   "cell_type": "code",
   "execution_count": 36,
   "id": "da89bae3",
   "metadata": {},
   "outputs": [
    {
     "name": "stdout",
     "output_type": "stream",
     "text": [
      "91-divoc reuqnoc lliw ew\n"
     ]
    }
   ],
   "source": [
    "print(\" \". join(l))"
   ]
  },
  {
   "cell_type": "code",
   "execution_count": 32,
   "id": "bfac8510",
   "metadata": {},
   "outputs": [
    {
     "data": {
      "text/plain": [
       "['91-divoc', 'reuqnoc', 'lliw', 'ew']"
      ]
     },
     "execution_count": 32,
     "metadata": {},
     "output_type": "execute_result"
    }
   ],
   "source": [
    "l"
   ]
  },
  {
   "cell_type": "markdown",
   "id": "e46397f6",
   "metadata": {},
   "source": [
    "# Queue"
   ]
  },
  {
   "cell_type": "code",
   "execution_count": 37,
   "id": "6c2054f9",
   "metadata": {},
   "outputs": [],
   "source": [
    "from collections import deque\n"
   ]
  },
  {
   "cell_type": "code",
   "execution_count": 40,
   "id": "eba09ee9",
   "metadata": {
    "collapsed": true
   },
   "outputs": [
    {
     "name": "stdout",
     "output_type": "stream",
     "text": [
      "Placing order for: pizza\n",
      "Placing order for: samosa\n",
      "Placing order for:Now serving:  pasta\n",
      " pizza\n",
      "Placing order for: biryani\n",
      "Placing order for: burger\n",
      "Now serving:  samosa\n",
      "Now serving:  pasta\n",
      "Now serving:  biryani\n",
      "Now serving:  burger\n",
      "Queue is empty\n",
      "Now serving:  None\n",
      "Queue is empty\n",
      "Now serving:  None\n",
      "Queue is empty\n",
      "Now serving:  None\n",
      "Queue is empty\n",
      "Now serving:  None\n",
      "Queue is empty\n",
      "Now serving:  None\n",
      "Queue is empty\n",
      "Now serving:  None\n",
      "Queue is empty\n",
      "Now serving:  None\n",
      "Queue is empty\n",
      "Now serving:  None\n",
      "Queue is empty\n",
      "Now serving:  None\n",
      "Queue is empty\n",
      "Now serving:  None\n",
      "Queue is empty\n",
      "Now serving:  None\n",
      "Queue is empty\n",
      "Now serving:  None\n",
      "Queue is empty\n",
      "Now serving:  None\n",
      "Queue is empty\n",
      "Now serving:  None\n",
      "Queue is empty\n",
      "Now serving:  None\n",
      "Queue is empty\n",
      "Now serving:  None\n",
      "Queue is empty\n",
      "Now serving:  None\n",
      "Queue is empty\n",
      "Now serving:  None\n",
      "Queue is empty\n",
      "Now serving:  None\n",
      "Queue is empty\n",
      "Now serving:  None\n",
      "Queue is empty\n",
      "Now serving:  None\n",
      "Queue is empty\n",
      "Now serving:  None\n",
      "Queue is empty\n",
      "Now serving:  None\n",
      "Queue is empty\n",
      "Now serving:  None\n",
      "Queue is empty\n",
      "Now serving:  None\n",
      "Queue is empty\n",
      "Now serving:  None\n",
      "Queue is empty\n",
      "Now serving:  None\n",
      "Queue is empty\n",
      "Now serving:  None\n",
      "Queue is empty\n",
      "Now serving:  None\n",
      "Queue is empty\n",
      "Now serving:  None\n",
      "Queue is empty\n",
      "Now serving:  None\n",
      "Queue is empty\n",
      "Now serving:  None\n",
      "Queue is empty\n",
      "Now serving:  None\n",
      "Queue is empty\n",
      "Now serving:  None\n",
      "Queue is empty\n",
      "Now serving:  None\n",
      "Queue is empty\n",
      "Now serving:  None\n",
      "Queue is empty\n",
      "Now serving:  None\n",
      "Queue is empty\n",
      "Now serving:  None\n",
      "Queue is empty\n",
      "Now serving:  None\n",
      "Queue is empty\n",
      "Now serving:  None\n",
      "Queue is empty\n",
      "Now serving:  None\n"
     ]
    }
   ],
   "source": [
    "import threading\n",
    "import time\n",
    "\n",
    "from collections import deque\n",
    "\n",
    "class Queue:\n",
    "    def __init__(self):\n",
    "        self.buffer = deque()\n",
    "\n",
    "    def enqueue(self, val):\n",
    "        self.buffer.appendleft(val)\n",
    "\n",
    "    def dequeue(self):\n",
    "        if len(self.buffer)==0:\n",
    "            print(\"Queue is empty\")\n",
    "            return\n",
    "\n",
    "        return self.buffer.pop()\n",
    "\n",
    "    def is_empty(self):\n",
    "        return len(self.buffer) == 0\n",
    "\n",
    "    def size(self):\n",
    "        return len(self.buffer)\n",
    "\n",
    "food_order_queue = Queue()\n",
    "\n",
    "def place_orders(orders):\n",
    "    for order in orders:\n",
    "        print(\"Placing order for:\",order)\n",
    "        food_order_queue.enqueue(order)\n",
    "        time.sleep(0.5)\n",
    "\n",
    "\n",
    "def serve_orders():\n",
    "    time.sleep(1)\n",
    "    while True:\n",
    "        order = food_order_queue.dequeue()\n",
    "        print(\"Now serving: \",order)\n",
    "        time.sleep(2)\n",
    "\n",
    "if __name__ == '__main__':\n",
    "    orders = ['pizza','samosa','pasta','biryani','burger']\n",
    "    t1 = threading.Thread(target=place_orders, args=(orders,))\n",
    "    t2 = threading.Thread(target=serve_orders)\n",
    "\n",
    "    t1.start()\n",
    "    t2.start()"
   ]
  },
  {
   "cell_type": "markdown",
   "id": "5956b815",
   "metadata": {},
   "source": [
    "# General Tree "
   ]
  },
  {
   "cell_type": "code",
   "execution_count": 52,
   "id": "e1c5eedc",
   "metadata": {},
   "outputs": [],
   "source": [
    "class TreeNode:\n",
    "    def __init__(self,data):\n",
    "        self.data = data\n",
    "        self.children = [] #instance of Treenode class\n",
    "        self.parent = None\n",
    "    \n",
    "    def add_child(self,child):\n",
    "        child.parent = self\n",
    "        self.children.append(child)\n",
    "    \n",
    "    def get_level(self):\n",
    "        level = 0\n",
    "        p = self.parent\n",
    "        while p:\n",
    "            level +=1\n",
    "            p = p.parent\n",
    "        \n",
    "        return level\n",
    "    \n",
    "    def print_tree(self,name = None ,designation = None):\n",
    "        spaces = \" \" * self.get_level() * 4\n",
    "        prefix = spaces + \"|__\" if self.parent else \"\"\n",
    "        print(prefix + self.data)\n",
    "        if len(self.children) > 0:\n",
    "            for c in self.children:\n",
    "                c.print_tree()\n",
    "\n",
    "\n",
    "            \n",
    "            \n",
    "            \n",
    "def build_tree():\n",
    "    \n",
    "        root = TreeNode('CEO')\n",
    "\n",
    "        cto = TreeNode('CTO')\n",
    "        ir = TreeNode('Infrastructure Head')\n",
    "        ap = TreeNode('Application Head')\n",
    "        ir.add_child(TreeNode('Cloud Manager'))\n",
    "        ir.add_child(TreeNode('App Manager'))\n",
    "        cto.add_child(ir)\n",
    "        cto.add_child(ap)\n",
    "\n",
    "        hr = TreeNode('HR Head')\n",
    "        rm = TreeNode('Recruitment Manager')\n",
    "        pm = TreeNode('Policy Manager')\n",
    "\n",
    "        hr.add_child(rm)\n",
    "        hr.add_child(pm)\n",
    "\n",
    "\n",
    "\n",
    "        root.add_child(cto)\n",
    "        root.add_child(hr)\n",
    "        return root"
   ]
  },
  {
   "cell_type": "code",
   "execution_count": 53,
   "id": "ac7333b2",
   "metadata": {},
   "outputs": [
    {
     "name": "stdout",
     "output_type": "stream",
     "text": [
      "CEO\n",
      "    |__CTO\n",
      "        |__Infrastructure Head\n",
      "            |__Cloud Manager\n",
      "            |__App Manager\n",
      "        |__Application Head\n",
      "    |__HR Head\n",
      "        |__Recruitment Manager\n",
      "        |__Policy Manager\n"
     ]
    }
   ],
   "source": [
    "if __name__ == '__main__':\n",
    "    root = build_tree()\n",
    "    root.print_tree()\n",
    "    pass\n",
    "    "
   ]
  },
  {
   "cell_type": "code",
   "execution_count": 55,
   "id": "eea2f99a",
   "metadata": {},
   "outputs": [
    {
     "name": "stdout",
     "output_type": "stream",
     "text": [
      "Nilupul\n",
      "   |__Chinmay\n",
      "      |__Vishwa\n",
      "         |__Dhaval\n",
      "         |__Abhijit\n",
      "      |__Aamir\n",
      "   |__Gels\n",
      "      |__Peter\n",
      "      |__Waqas\n"
     ]
    }
   ],
   "source": [
    "class TreeNode:\n",
    "    def __init__(self, name, designation):\n",
    "        self.name = name\n",
    "        self.designation = designation\n",
    "        self.children = []\n",
    "        self.parent = None\n",
    "\n",
    "    def get_level(self):\n",
    "        level = 0\n",
    "        p = self.parent\n",
    "        while p:\n",
    "            level += 1\n",
    "            p = p.parent\n",
    "\n",
    "        return level\n",
    "\n",
    "    def print_tree(self, property_name):\n",
    "        if property_name == 'both':\n",
    "            value = self.name + \" (\" + self.designation + \")\"\n",
    "        elif property_name == 'name':\n",
    "            value = self.name\n",
    "        else:\n",
    "            value = self.designation\n",
    "\n",
    "        spaces = ' ' * self.get_level() * 3\n",
    "        prefix = spaces + \"|__\" if self.parent else \"\"\n",
    "        print(prefix + value)\n",
    "        if self.children:\n",
    "            for child in self.children:\n",
    "                child.print_tree(property_name)\n",
    "\n",
    "    def add_child(self, child):\n",
    "        child.parent = self\n",
    "        self.children.append(child)\n",
    "\n",
    "def build_management_tree():\n",
    "    # CTO Hierarchy\n",
    "    infra_head = TreeNode(\"Vishwa\",\"Infrastructure Head\")\n",
    "    infra_head.add_child(TreeNode(\"Dhaval\",\"Cloud Manager\"))\n",
    "    infra_head.add_child(TreeNode(\"Abhijit\", \"App Manager\"))\n",
    "\n",
    "    cto = TreeNode(\"Chinmay\", \"CTO\")\n",
    "    cto.add_child(infra_head)\n",
    "    cto.add_child(TreeNode(\"Aamir\", \"Application Head\"))\n",
    "\n",
    "    # HR hierarchy\n",
    "    hr_head = TreeNode(\"Gels\",\"HR Head\")\n",
    "\n",
    "    hr_head.add_child(TreeNode(\"Peter\",\"Recruitment Manager\"))\n",
    "    hr_head.add_child(TreeNode(\"Waqas\", \"Policy Manager\"))\n",
    "\n",
    "    ceo = TreeNode(\"Nilupul\", \"CEO\")\n",
    "    ceo.add_child(cto)\n",
    "    ceo.add_child(hr_head)\n",
    "\n",
    "    return ceo\n",
    "\n",
    "\n",
    "if __name__ == '__main__':\n",
    "    root_node = build_management_tree()\n",
    "    root_node.print_tree(\"name\")\n",
    "    #root_node.print_tree(\"designation\")\n",
    "    #root_node.print_tree(\"both\")"
   ]
  },
  {
   "cell_type": "markdown",
   "id": "f2bad917",
   "metadata": {},
   "source": [
    "# Binary search tree"
   ]
  },
  {
   "cell_type": "code",
   "execution_count": 7,
   "id": "83662105",
   "metadata": {},
   "outputs": [
    {
     "name": "stdout",
     "output_type": "stream",
     "text": [
      "<__main__.BinarySearchTreeNode object at 0x000001308118D7F0>\n",
      "[7, 14, 15, 20, 23, 27, 88]\n"
     ]
    }
   ],
   "source": [
    "class BinarySearchTreeNode:\n",
    "    def __init__(self,data):\n",
    "        self.data = data\n",
    "        self.left = None\n",
    "        self.right = None\n",
    "    \n",
    "    def add_child(self,data):\n",
    "        if data == self.data:\n",
    "            return\n",
    "        if data < self.data:\n",
    "            #adding data in left sub tree\n",
    "            if self.left: #checking whether the node has a value or not\n",
    "                self.left.add_child(data) #recursion\n",
    "            else:\n",
    "                #if in else part means node is empty\n",
    "                self.left = BinarySearchTreeNode(data)\n",
    "                \n",
    "            \n",
    "        else:\n",
    "            #adding to right sub tree\n",
    "            if self.right: #checking whether the node has a value or not\n",
    "                self.right.add_child(data) #recursion\n",
    "            else:\n",
    "                #if in else part means node is empty\n",
    "                self.right = BinarySearchTreeNode(data)\n",
    "    \n",
    "    #implementing in order traversal\n",
    "    def in_order_traversal(self):\n",
    "        elements = []\n",
    "        #visit left tree\n",
    "        if self.left:\n",
    "            elements += self.left.in_order_traversal()\n",
    "        \n",
    "        #base node\n",
    "        elements.append(self.data)\n",
    "        \n",
    "        #right tree\n",
    "        if self.right:\n",
    "            elements += self.right.in_order_traversal()\n",
    "        \n",
    "        return elements\n",
    "    \n",
    "    def post_order_traversal(self):\n",
    "        elements = []\n",
    "        #visit left tree\n",
    "        if self.left:\n",
    "            elements += self.left.post_order_traversal()\n",
    "        \n",
    "        #right tree\n",
    "        if self.right:\n",
    "            elements += self.right.post_order_traversal()\n",
    "        \n",
    "        #base node\n",
    "        elements.append(self.data)\n",
    "        \n",
    "        return elements\n",
    "    \n",
    "    def pre_order_traversal(self):\n",
    "        elements = []\n",
    "        #base node\n",
    "        elements.append(self.data)\n",
    "        \n",
    "        #visit left tree\n",
    "        if self.left:\n",
    "            elements += self.left.pre_order_traversal()\n",
    "        \n",
    "        #right tree\n",
    "        if self.right:\n",
    "            elements += self.right.pre_order_traversal()\n",
    "        \n",
    "        \n",
    "        return elements\n",
    "    \n",
    "    def search(self, val):\n",
    "        if self.data == val:\n",
    "            return True\n",
    "        \n",
    "        if val < self.data:\n",
    "            if self.left:\n",
    "                return self.left.search(val)\n",
    "            else:\n",
    "                return False\n",
    "        \n",
    "        if val > self.data:\n",
    "            if self.right:\n",
    "                return self.right.search(val)\n",
    "            else:\n",
    "                return False\n",
    "    def delete(self, val):\n",
    "        if val < self.data:\n",
    "            if self.left:\n",
    "                self.left = self.left.delete(val)\n",
    "        elif val > self.data:\n",
    "            if self.right:\n",
    "                self.right = self.right.delete(val)\n",
    "        else:\n",
    "            if self.left is None and self.right is None:\n",
    "                return None\n",
    "            elif self.left is None:\n",
    "                return self.right\n",
    "            elif self.right is None:\n",
    "                return self.left\n",
    "\n",
    "            max_val = self.left.find_max()\n",
    "            self.data = max_val\n",
    "            self.left = self.left.delete(max_val)\n",
    "\n",
    "        return self\n",
    "                    \n",
    "    def find_min(self):\n",
    "        if self.left is None:\n",
    "            return self.data\n",
    "        return self.left.find_min()\n",
    "    \n",
    "    \n",
    "    def find_max(self):\n",
    "        if self.right is None:\n",
    "            return self.data\n",
    "        return self.right.find_max()\n",
    "    \n",
    "    def cal_sum(self):\n",
    "        left_sum = self.left.cal_sum() if self.left else 0\n",
    "        right_sum = self.right.cal_sum() if self.right else 0\n",
    "        return self.data + left_sum + right_sum\n",
    "      \n",
    "        \n",
    "def build_tree(elements):\n",
    "    root = BinarySearchTreeNode(elements[0])\n",
    "    \n",
    "    for i in range(1,len(elements)):\n",
    "        root.add_child(elements[i])\n",
    "    \n",
    "    return root\n",
    "\n",
    "if __name__ == '__main__':\n",
    "        number = [15,12,7,14,27,20,23,88 ]\n",
    "        number_tree = build_tree(number)\n",
    "        #print(number_tree.in_order_traversal())\n",
    "        print(number_tree.delete(12))\n",
    "        print(number_tree.in_order_traversal())\n",
    "        #print(number_tree.pre_order_traversal())\n",
    "        #print(number_tree.find_min())\n",
    "        #print(number_tree.find_max())\n",
    "        #print(number_tree.cal_sum())\n",
    "        \n",
    "    \n",
    "    \n",
    "    "
   ]
  },
  {
   "cell_type": "code",
   "execution_count": null,
   "id": "0fc1233a",
   "metadata": {},
   "outputs": [],
   "source": []
  }
 ],
 "metadata": {
  "kernelspec": {
   "display_name": "Python 3",
   "language": "python",
   "name": "python3"
  },
  "language_info": {
   "codemirror_mode": {
    "name": "ipython",
    "version": 3
   },
   "file_extension": ".py",
   "mimetype": "text/x-python",
   "name": "python",
   "nbconvert_exporter": "python",
   "pygments_lexer": "ipython3",
   "version": "3.8.8"
  }
 },
 "nbformat": 4,
 "nbformat_minor": 5
}
