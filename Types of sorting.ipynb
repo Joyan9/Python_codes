{
 "cells": [
  {
   "cell_type": "markdown",
   "id": "2749890c",
   "metadata": {},
   "source": [
    "# Bubble sort"
   ]
  },
  {
   "cell_type": "code",
   "execution_count": 2,
   "id": "4a503344",
   "metadata": {},
   "outputs": [
    {
     "name": "stdout",
     "output_type": "stream",
     "text": [
      "[1, 2, 6, 20, 89]\n"
     ]
    }
   ],
   "source": [
    "def bubble_sort(elements):\n",
    "    size = len(elements)\n",
    "    for i in range(size - 1):\n",
    "        swapped = False #if input is already sorted then to avoid excessive running\n",
    "        for j in range(size - 1 - i): #why minus i because the last part of the list is already sorted no need to run loop\n",
    "            if elements[j] > elements[j+1]:\n",
    "                elements[j], elements[j+1] = elements[j+1], elements[j]\n",
    "                swapped = True\n",
    "        if not swapped:\n",
    "            break\n",
    "\n",
    "\n",
    "if __name__ == '__main__':\n",
    "    elements = [2,1,6,89,20]\n",
    "    \n",
    "    bubble_sort(elements)\n",
    "    \n",
    "    print(elements)"
   ]
  },
  {
   "cell_type": "code",
   "execution_count": 7,
   "id": "9bdd0109",
   "metadata": {},
   "outputs": [
    {
     "data": {
      "text/plain": [
       "400"
      ]
     },
     "execution_count": 7,
     "metadata": {},
     "output_type": "execute_result"
    }
   ],
   "source": [
    "elements[1]['transaction_amount']"
   ]
  },
  {
   "cell_type": "markdown",
   "id": "0fb2bf94",
   "metadata": {},
   "source": [
    "# Quick sort"
   ]
  },
  {
   "cell_type": "markdown",
   "id": "e0d3ffe5",
   "metadata": {},
   "source": [
    "Hoare's partition scheme"
   ]
  },
  {
   "cell_type": "code",
   "execution_count": 3,
   "id": "e16e4377",
   "metadata": {},
   "outputs": [],
   "source": [
    "def swap(a, b, arr):\n",
    "    if a!=b:\n",
    "        arr[a] = arr[a] + arr[b]\n",
    "        arr[b] = arr[a] - arr[b]\n",
    "        arr[a] = arr[a] - arr[b]\n",
    "\n",
    "def partition(elements, start, end):\n",
    "    pivot_index = start\n",
    "    pivot = elements[pivot_index]\n",
    "    #start = pivot_index + 1\n",
    "    #end = len(elements - 1)\n",
    "    while start < end:\n",
    "        while start < len(elements) and elements[start] <= pivot:\n",
    "            start = start + 1\n",
    "        while elements[end] > pivot:\n",
    "            end -=1\n",
    "\n",
    "        if start < end:\n",
    "            swap(start, end, elements)\n",
    "\n",
    "    swap(pivot_index, end, elements)\n",
    "    \n",
    "    return end\n",
    "\n",
    "def quick_sort(elements, start, end):\n",
    "    if start < end:\n",
    "        pi = partition(elements, start, end) \n",
    "        # pi is the partition index, the partition fn return the end index that is the partition index\n",
    "        quick_sort(elements, start, pi - 1) #left partition\n",
    "        quick_sort(elements, pi + 1, end) #right partition\n"
   ]
  },
  {
   "cell_type": "code",
   "execution_count": 4,
   "id": "3999540d",
   "metadata": {},
   "outputs": [
    {
     "name": "stdout",
     "output_type": "stream",
     "text": [
      "[2, 7, 9, 11, 15, 28, 29]\n"
     ]
    }
   ],
   "source": [
    "elements = [11,9,29,7,2,15,28]\n",
    "quick_sort(elements, 0, len(elements)-1)\n",
    "print(elements)"
   ]
  },
  {
   "cell_type": "markdown",
   "id": "6e74c356",
   "metadata": {},
   "source": [
    "# Insertion sort"
   ]
  },
  {
   "cell_type": "code",
   "execution_count": 5,
   "id": "69a673a1",
   "metadata": {},
   "outputs": [],
   "source": [
    "def insertion_sort(elements):\n",
    "    for i in range(1, len(elements)):\n",
    "        anchor = elements[i] #element to be compared\n",
    "        j = i - 1\n",
    "                                           \n",
    "        while j >= 0  and anchor < elements[j]:\n",
    "            elements[j + 1] = elements[j]\n",
    "            j = j - 1\n",
    "        elements[j+1] = anchor\n",
    "        "
   ]
  },
  {
   "cell_type": "code",
   "execution_count": 6,
   "id": "e6eefa10",
   "metadata": {},
   "outputs": [
    {
     "name": "stdout",
     "output_type": "stream",
     "text": [
      "12.5 35.5 58.5 [0, 1, 2, 2, 5, 5, 7]\n"
     ]
    }
   ],
   "source": [
    "elements = [2, 1, 5, 7, 2, 0, 5]\n",
    "insertion_sort(elements)\n",
    "print(elements)"
   ]
  },
  {
   "cell_type": "code",
   "execution_count": 16,
   "id": "f517cb8e",
   "metadata": {},
   "outputs": [
    {
     "name": "stdout",
     "output_type": "stream",
     "text": [
      "[5]\n"
     ]
    }
   ],
   "source": [
    "elements = [2, 1, 5, 7, 2, 0, 5]\n",
    "insertion_sort(elements)\n",
    "#print(elements)"
   ]
  },
  {
   "cell_type": "markdown",
   "id": "2b7a7efa",
   "metadata": {},
   "source": [
    "# Merge sort"
   ]
  },
  {
   "cell_type": "code",
   "execution_count": 1,
   "id": "a4fbc81a",
   "metadata": {},
   "outputs": [],
   "source": [
    "def merge_sort(arr):\n",
    "    \n",
    "    if len(arr) <= 1:\n",
    "        return arr\n",
    "    mid = len(arr) // 2\n",
    "    left = arr[:mid]\n",
    "    right = arr[mid:]\n",
    "    \n",
    "    left = merge_sort(left)\n",
    "    right = merge_sort(right)\n",
    "    \n",
    "    return merge_two_sorted_lists(left, right)\n",
    "\n",
    "\n",
    "def merge_two_sorted_lists(a, b):\n",
    "    sorted_list = []\n",
    "    len_a, len_b = len(a), len(b)\n",
    "    i = j = 0\n",
    "    while i < len_a and j < len_b: #we do this to stop at the end of the list\n",
    "        if a[i] <= b[j]:\n",
    "            sorted_list.append(a[i])\n",
    "            i += 1\n",
    "        else:\n",
    "            sorted_list.append(b[j])\n",
    "            j += 1\n",
    "    while i < len_a:\n",
    "        sorted_list.append(a[i])\n",
    "        i +=1\n",
    "    while j < len_b:\n",
    "        sorted_list.append(b[j])\n",
    "        j +=1\n",
    "    \n",
    "    return sorted_list\n",
    "    "
   ]
  },
  {
   "cell_type": "code",
   "execution_count": 2,
   "id": "11260c56",
   "metadata": {},
   "outputs": [
    {
     "name": "stdout",
     "output_type": "stream",
     "text": [
      "[4, 9, 17, 21, 25, 29, 32, 38]\n"
     ]
    }
   ],
   "source": [
    "arr = [21,38,29,17,4,25,32,9]\n",
    "print(merge_sort(arr))"
   ]
  },
  {
   "cell_type": "markdown",
   "id": "ff5e2c2a",
   "metadata": {},
   "source": [
    "# Shell sort"
   ]
  },
  {
   "cell_type": "code",
   "execution_count": 16,
   "id": "9e10cbf8",
   "metadata": {},
   "outputs": [],
   "source": [
    "def shell_sort(arr):\n",
    "    size = len(arr)\n",
    "    gap = size // 2\n",
    "    while gap > 0 :\n",
    "        for i in range(gap, size):\n",
    "            anchor = arr[i]\n",
    "            j = i\n",
    "            while j >= gap and arr[j-gap] > anchor:\n",
    "                arr[j] = arr[j-gap]\n",
    "                j -= gap\n",
    "            arr[j] = anchor\n",
    "        gap = gap // 2\n",
    "    return arr"
   ]
  },
  {
   "cell_type": "code",
   "execution_count": 17,
   "id": "64f8a878",
   "metadata": {},
   "outputs": [
    {
     "name": "stdout",
     "output_type": "stream",
     "text": [
      "[4, 9, 11, 17, 21, 25, 29, 32, 38]\n"
     ]
    }
   ],
   "source": [
    "elements = [21,38,29,17,4,25,11,32,9]\n",
    "print(shell_sort(elements))"
   ]
  },
  {
   "cell_type": "code",
   "execution_count": 14,
   "id": "bf0c017c",
   "metadata": {},
   "outputs": [],
   "source": [
    "#shell sort removing duplicates\n",
    "def shell_sort_duplicates(arr):\n",
    "    size = len(arr)\n",
    "    gap = size // 2\n",
    "    while gap > 0 :\n",
    "        for i in range(gap, size):\n",
    "            anchor = arr[i]\n",
    "            j = i\n",
    "            while j >= gap and arr[j-gap] > anchor:\n",
    "                arr[j] = arr[j-gap]\n",
    "                j -= gap\n",
    "            arr[j] = anchor\n",
    "        gap = gap // 2\n",
    "    l = set(arr)\n",
    "    return l"
   ]
  },
  {
   "cell_type": "code",
   "execution_count": 15,
   "id": "3dd21b31",
   "metadata": {},
   "outputs": [
    {
     "name": "stdout",
     "output_type": "stream",
     "text": [
      "{0, 1, 2, 3, 5, 7, 8, 9}\n"
     ]
    }
   ],
   "source": [
    "elements = [2, 1, 5, 7, 2, 0, 5, 1, 2, 9, 5, 8, 3]\n",
    "print(shell_sort_duplicates(elements))"
   ]
  },
  {
   "cell_type": "markdown",
   "id": "9fa1b1cc",
   "metadata": {},
   "source": [
    "# Selection sort"
   ]
  },
  {
   "cell_type": "code",
   "execution_count": 3,
   "id": "77c6676e",
   "metadata": {},
   "outputs": [],
   "source": [
    "def selection_sort(arr):\n",
    "    size = len(arr)\n",
    "    for i in range(size-1):\n",
    "        min_index = i\n",
    "        for j in range(min_index+1, size):\n",
    "            if arr[j] < arr[min_index]:\n",
    "                min_index = j\n",
    "            \n",
    "        if i != min_index: #if ith element already contains the min element then don't swap\n",
    "            arr[i], arr[min_index] = arr[min_index], arr[i]\n",
    "            \n",
    "    return arr"
   ]
  },
  {
   "cell_type": "code",
   "execution_count": 4,
   "id": "7a43447e",
   "metadata": {},
   "outputs": [
    {
     "name": "stdout",
     "output_type": "stream",
     "text": [
      "[8, 12, 15, 17, 23, 53, 61, 78]\n"
     ]
    }
   ],
   "source": [
    "elements = [78,12,15,8,61,53,23,17]\n",
    "print(selection_sort(elements))"
   ]
  },
  {
   "cell_type": "code",
   "execution_count": null,
   "id": "d2b70540",
   "metadata": {},
   "outputs": [],
   "source": []
  }
 ],
 "metadata": {
  "kernelspec": {
   "display_name": "Python 3",
   "language": "python",
   "name": "python3"
  },
  "language_info": {
   "codemirror_mode": {
    "name": "ipython",
    "version": 3
   },
   "file_extension": ".py",
   "mimetype": "text/x-python",
   "name": "python",
   "nbconvert_exporter": "python",
   "pygments_lexer": "ipython3",
   "version": "3.8.8"
  }
 },
 "nbformat": 4,
 "nbformat_minor": 5
}
