{
 "cells": [
  {
   "cell_type": "markdown",
   "id": "8a2c2e27",
   "metadata": {},
   "source": [
    "# Binary search"
   ]
  },
  {
   "cell_type": "code",
   "execution_count": 1,
   "id": "615e8e8e",
   "metadata": {},
   "outputs": [
    {
     "name": "stdout",
     "output_type": "stream",
     "text": [
      "Number found at index 6 using binary search\n"
     ]
    }
   ],
   "source": [
    "def linear_search(numbers_list, number_to_find):\n",
    "    for index, element in enumerate(number_list):\n",
    "        if element == number_to_find:\n",
    "            return index\n",
    "        return -1\n",
    "\n",
    "def binary_search(numbers_list, number_to_find):\n",
    "    #numbers_list.sort()\n",
    "    left_index = 0\n",
    "    right_index = len(numbers_list) - 1\n",
    "    mid_index = 0\n",
    "    \n",
    "    while left_index <= right_index:\n",
    "        \n",
    "        mid_index = (left_index + right_index) // 2\n",
    "        mid_number = numbers_list[mid_index]\n",
    "        \n",
    "        if mid_number == number_to_find:\n",
    "            return mid_index\n",
    "        if mid_number < number_to_find:\n",
    "            left_index = mid_index + 1\n",
    "        else:\n",
    "            right_index = mid_index - 1\n",
    "    \n",
    "    return -1\n",
    "    \n",
    "    \n",
    "if __name__ == '__main__':\n",
    "    numbers_list = numbers = [1,4,6,9,11,15,15,15,17,21,34,34,56]\n",
    "    number_to_find = 15\n",
    "\n",
    "    index = binary_search(numbers_list, number_to_find)\n",
    "    print(f\"Number found at index {index} using binary search\")"
   ]
  },
  {
   "cell_type": "code",
   "execution_count": 19,
   "id": "66ab984c",
   "metadata": {},
   "outputs": [
    {
     "name": "stdout",
     "output_type": "stream",
     "text": [
      "Indices of occurances of 15 are [5, 6, 7]\n"
     ]
    }
   ],
   "source": [
    "def find_all_occurances(numbers, number_to_find):\n",
    "    index = binary_search(numbers, number_to_find)\n",
    "    indices = [index]\n",
    "    # find indices on left hand side\n",
    "    i = index-1\n",
    "    while i >=0:\n",
    "        if numbers[i] == number_to_find:\n",
    "            indices.append(i)\n",
    "        else:\n",
    "            break\n",
    "        i = i - 1\n",
    "\n",
    "    # find indices on right hand side\n",
    "    i = index + 1\n",
    "    while i<len(numbers):\n",
    "        if numbers[i] == number_to_find:\n",
    "            indices.append(i)\n",
    "        else:\n",
    "            break\n",
    "        i = i + 1\n",
    "\n",
    "    return sorted(indices)\n",
    "\n",
    "\n",
    "numbers_list = numbers = [1,4,6,9,11,15,15,15,17,21,34,34,56]\n",
    "number_to_find = 15\n",
    "indices = find_all_occurances(numbers, number_to_find)\n",
    "print(f\"Indices of occurances of {number_to_find} are {indices}\")"
   ]
  },
  {
   "cell_type": "code",
   "execution_count": null,
   "id": "b9a20c1d",
   "metadata": {},
   "outputs": [],
   "source": [
    "    \n",
    "def binary_search_recursive(numbers_list, number_to_find, left_index, right_index):\n",
    "    #numbers_list.sort()\n",
    "    if right_index < left_index:\n",
    "        return -1\n",
    "    mid_index = (left_index + right_index)//2\n",
    "    if mid_index >= len(numbers_list) or mid_index < 0:\n",
    "            return -1\n",
    "    mid_number = numbers_list[mid_index]\n",
    "    if mid_number == number_to_find:\n",
    "            return mid_index\n",
    "    if mid_number < number_to_find:\n",
    "        left_index = mid_index + 1\n",
    "    else:\n",
    "        right_index = mid_index - 1\n",
    "\n",
    "    return binary_search_recursive(numbers_list, number_to_find, left_index, right_index)\n",
    "    "
   ]
  }
 ],
 "metadata": {
  "kernelspec": {
   "display_name": "Python 3",
   "language": "python",
   "name": "python3"
  },
  "language_info": {
   "codemirror_mode": {
    "name": "ipython",
    "version": 3
   },
   "file_extension": ".py",
   "mimetype": "text/x-python",
   "name": "python",
   "nbconvert_exporter": "python",
   "pygments_lexer": "ipython3",
   "version": "3.8.8"
  }
 },
 "nbformat": 4,
 "nbformat_minor": 5
}
